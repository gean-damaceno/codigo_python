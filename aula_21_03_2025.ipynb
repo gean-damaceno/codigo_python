{
  "nbformat": 4,
  "nbformat_minor": 0,
  "metadata": {
    "colab": {
      "provenance": [],
      "authorship_tag": "ABX9TyOzX8ZaCTzdJMQsBQoiRs2N",
      "include_colab_link": true
    },
    "kernelspec": {
      "name": "python3",
      "display_name": "Python 3"
    },
    "language_info": {
      "name": "python"
    }
  },
  "cells": [
    {
      "cell_type": "markdown",
      "metadata": {
        "id": "view-in-github",
        "colab_type": "text"
      },
      "source": [
        "<a href=\"https://colab.research.google.com/github/gean-damaceno/codigo_python/blob/main/aula_21_03_2025.ipynb\" target=\"_parent\"><img src=\"https://colab.research.google.com/assets/colab-badge.svg\" alt=\"Open In Colab\"/></a>"
      ]
    },
    {
      "cell_type": "code",
      "execution_count": 19,
      "metadata": {
        "id": "Mtduh_SUnh36"
      },
      "outputs": [],
      "source": [
        "#-----------1º atividade da disciplina de estrutura de dados\n",
        "multiplicacao = 0\n",
        "multiplicacao = multiplicacao + 4\n",
        "#multiplicacao = multiplicacao + 4\n",
        "#multiplicacao = multiplicacao + 4\n",
        "#print(multiplicacao)"
      ]
    },
    {
      "cell_type": "code",
      "source": [
        "id(multiplicacao)"
      ],
      "metadata": {
        "colab": {
          "base_uri": "https://localhost:8080/"
        },
        "id": "GDxVLXtksU5v",
        "outputId": "eccd6983-12f3-4721-ccef-9b12a854d525"
      },
      "execution_count": 20,
      "outputs": [
        {
          "output_type": "execute_result",
          "data": {
            "text/plain": [
              "10751080"
            ]
          },
          "metadata": {},
          "execution_count": 20
        }
      ]
    },
    {
      "cell_type": "code",
      "source": [
        "#---- exemplo 1\n",
        "\n",
        "def medias():\n",
        "    # etapa 1: solicitando os valores ao usuario\n",
        "    a1 = input(\"Digite A1 \")\n",
        "    a2 = input(\"Digite A2: \")\n",
        "    a3 = input(\"Digite A3: \")\n",
        "\n",
        "    # etapa 2: calculando a soma dos valores\n",
        "    soma = float(a1) + float(a2) + float(a3)\n",
        "    media = soma/3\n",
        "\n",
        "    # etapa 3: retorna a soma\n",
        "    return print(media, soma)\n"
      ],
      "metadata": {
        "id": "BswumCDLxNuB"
      },
      "execution_count": 42,
      "outputs": []
    },
    {
      "cell_type": "code",
      "source": [
        "medias()"
      ],
      "metadata": {
        "colab": {
          "base_uri": "https://localhost:8080/",
          "height": 315
        },
        "id": "NpAEwRx52UGu",
        "outputId": "5c78e1f9-ff94-4c3b-aad3-b75b6e8b9c7d"
      },
      "execution_count": 43,
      "outputs": [
        {
          "name": "stdout",
          "output_type": "stream",
          "text": [
            "Digite A1 2\n",
            "Digite A2: 7\n",
            "Digite A3: 8\n"
          ]
        },
        {
          "output_type": "error",
          "ename": "TypeError",
          "evalue": "unsupported operand type(s) for /: 'str' and 'int'",
          "traceback": [
            "\u001b[0;31m---------------------------------------------------------------------------\u001b[0m",
            "\u001b[0;31mTypeError\u001b[0m                                 Traceback (most recent call last)",
            "\u001b[0;32m<ipython-input-43-96235590246f>\u001b[0m in \u001b[0;36m<cell line: 0>\u001b[0;34m()\u001b[0m\n\u001b[0;32m----> 1\u001b[0;31m \u001b[0mmedias\u001b[0m\u001b[0;34m(\u001b[0m\u001b[0;34m)\u001b[0m\u001b[0;34m\u001b[0m\u001b[0;34m\u001b[0m\u001b[0m\n\u001b[0m",
            "\u001b[0;32m<ipython-input-42-3387881123a6>\u001b[0m in \u001b[0;36mmedias\u001b[0;34m()\u001b[0m\n\u001b[1;32m     10\u001b[0m     \u001b[0;31m#soma = float(a1) + float(a2) + float(a3)\u001b[0m\u001b[0;34m\u001b[0m\u001b[0;34m\u001b[0m\u001b[0m\n\u001b[1;32m     11\u001b[0m     \u001b[0msoma\u001b[0m \u001b[0;34m=\u001b[0m \u001b[0ma1\u001b[0m \u001b[0;34m+\u001b[0m \u001b[0ma2\u001b[0m \u001b[0;34m+\u001b[0m \u001b[0ma3\u001b[0m\u001b[0;34m\u001b[0m\u001b[0;34m\u001b[0m\u001b[0m\n\u001b[0;32m---> 12\u001b[0;31m     \u001b[0mmedia\u001b[0m \u001b[0;34m=\u001b[0m \u001b[0msoma\u001b[0m\u001b[0;34m/\u001b[0m\u001b[0;36m3\u001b[0m\u001b[0;34m\u001b[0m\u001b[0;34m\u001b[0m\u001b[0m\n\u001b[0m\u001b[1;32m     13\u001b[0m \u001b[0;34m\u001b[0m\u001b[0m\n\u001b[1;32m     14\u001b[0m     \u001b[0;31m# etapa 3: retorna a soma\u001b[0m\u001b[0;34m\u001b[0m\u001b[0;34m\u001b[0m\u001b[0m\n",
            "\u001b[0;31mTypeError\u001b[0m: unsupported operand type(s) for /: 'str' and 'int'"
          ]
        }
      ]
    },
    {
      "cell_type": "code",
      "source": [
        "# ------------ exemplo 2\n",
        "\n",
        "def nota_final():\n",
        "\n",
        "  # etapa para entrada dos valores das disciplinas\n",
        "  p1 = input(\"nota da p1:\")\n",
        "  p2 = input(\"nota da p2:\")\n",
        "  p3 = input(\"nota da p3:\")\n",
        "  p4 = input(\"nota da p4:\")\n",
        "  n = 4\n",
        "  # retornando a média\n",
        "  soma = (float(p1) + float(p2) + float(p3) + float(p4))\n",
        "  media = soma/n\n",
        "  # colocando as condições do aluno se aprovado ou não\n",
        "  if media >= 70:\n",
        "    print(\"Aprovado\")\n",
        "  else:\n",
        "      print(\"Reprovado\")\n",
        "\n",
        "\n",
        "  return print(media)\n",
        ""
      ],
      "metadata": {
        "id": "fC0c4rgd5ZQx"
      },
      "execution_count": 56,
      "outputs": []
    },
    {
      "cell_type": "code",
      "source": [
        "nota_final()"
      ],
      "metadata": {
        "colab": {
          "base_uri": "https://localhost:8080/"
        },
        "id": "zpyO2aG98tj1",
        "outputId": "16ff1f0c-a593-4690-ed99-961756acc411"
      },
      "execution_count": 57,
      "outputs": [
        {
          "output_type": "stream",
          "name": "stdout",
          "text": [
            "nota da p1:50\n",
            "nota da p2:70\n",
            "nota da p3:80\n",
            "nota da p4:60\n",
            "Reprovado\n",
            "65.0\n"
          ]
        }
      ]
    },
    {
      "cell_type": "code",
      "source": [
        "# Exemplo 3 de condição\n",
        "# inicio definindo o j\n",
        "#def definindo_j():\n",
        "j = 1\n",
        "  #calculando as potencias\n",
        "while j <= 1000:\n",
        "    s = 3**j\n",
        "    j = j + 1\n",
        "    print(s)\n"
      ],
      "metadata": {
        "id": "X3OeRjnxDuPb"
      },
      "execution_count": null,
      "outputs": []
    },
    {
      "cell_type": "code",
      "source": [
        "# exemplo de como fazer em python\n",
        "Início\n",
        "  Inteiro: x\n",
        "  Escreva(\"Insira o valor de x: \")\n",
        "  Leia(x)\n",
        "  Defina mu = 3\n",
        "  Prob = (exp(-mu) * mu^x) / x!\n",
        "  Escreva(Prob)\n",
        "Fim"
      ],
      "metadata": {
        "id": "FuWGe9s9H6gh"
      },
      "execution_count": null,
      "outputs": []
    },
    {
      "cell_type": "code",
      "source": [
        "#---- exemplo da distribuicao poisson\n",
        "import math\n",
        "\n",
        "def retorna_probabilidade():\n",
        "\n",
        "    # etapa 1: solicitando o valor de x ao usuario\n",
        "    x = int(input(\"Digite o valor de x\"))\n",
        "\n",
        "    # definindo a media da distribuicao poisson\n",
        "    mu = 3\n",
        "\n",
        "    # etapa 2: calculando a probabilidade\n",
        "    prob = (math.exp(-mu) * mu**x) / math.factorial(x)\n",
        "\n",
        "    # etapa 3: retorna a soma\n",
        "    return prob"
      ],
      "metadata": {
        "id": "C1nv2mJJIAm8"
      },
      "execution_count": 67,
      "outputs": []
    },
    {
      "cell_type": "code",
      "source": [
        "retorna_probabilidade()"
      ],
      "metadata": {
        "colab": {
          "base_uri": "https://localhost:8080/"
        },
        "id": "ZF61zADGIKqW",
        "outputId": "adb1fcad-b133-4c02-81dd-6539d8b6967b"
      },
      "execution_count": 68,
      "outputs": [
        {
          "name": "stdout",
          "output_type": "stream",
          "text": [
            "Digite o valor de x15\n"
          ]
        },
        {
          "output_type": "execute_result",
          "data": {
            "text/plain": [
              "5.46305740400596e-07"
            ]
          },
          "metadata": {},
          "execution_count": 68
        }
      ]
    },
    {
      "cell_type": "code",
      "source": [
        "# Fazer uma distribuição binomial em python\n",
        "\n",
        "import math\n",
        "\n",
        "def retornando_f():\n",
        "\n",
        "  # etapa 1: solicitar que o usuario digite o valor necessário\n",
        "  x = int(input(\"Digite o valor de x\"))\n",
        "\n",
        "  # definindo quem é n\n",
        "  n = int(input(\"Digite o valor de n\"))\n",
        "\n",
        "  # definindo o p, que é a probabilidade que varia de 0 a 1\n",
        "  p = float(input(\"Digite o valor de p\"))\n",
        "\n",
        "  # calculando a probabilidade\n",
        "  funcao = math.factorial(n)/(math.factorial(x)*math.factorial(n-x))\n",
        "\n",
        "  segunda = p**x*(1-p)**(n-x)*funcao\n",
        "\n",
        "  return segunda"
      ],
      "metadata": {
        "id": "nl4ARlOLKX8A"
      },
      "execution_count": 85,
      "outputs": []
    },
    {
      "cell_type": "code",
      "source": [
        "retornando_f()"
      ],
      "metadata": {
        "colab": {
          "base_uri": "https://localhost:8080/"
        },
        "id": "hGAwPRyBMZ_Q",
        "outputId": "637bf77d-af05-4a9a-c16c-d3eb57e4bad7"
      },
      "execution_count": 87,
      "outputs": [
        {
          "name": "stdout",
          "output_type": "stream",
          "text": [
            "Digite o valor de x4\n",
            "Digite o valor de n456\n",
            "Digite o valor de p0.5\n"
          ]
        },
        {
          "output_type": "execute_result",
          "data": {
            "text/plain": [
              "9.555227458014343e-129"
            ]
          },
          "metadata": {},
          "execution_count": 87
        }
      ]
    }
  ]
}